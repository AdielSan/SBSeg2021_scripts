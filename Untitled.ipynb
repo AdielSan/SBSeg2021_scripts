{
 "cells": [
  {
   "cell_type": "code",
   "execution_count": 3,
   "id": "6eb8b801",
   "metadata": {},
   "outputs": [
    {
     "data": {
      "text/plain": [
       "Index(['Email', 'First Name', 'Last Name', 'Ticket Group', 'Ticket Type',\n",
       "       'Price Paid', 'Promo Code', 'Registration Date', 'Registration Time',\n",
       "       'Registration Status', 'Attendance Status', 'Role'],\n",
       "      dtype='object')"
      ]
     },
     "execution_count": 3,
     "metadata": {},
     "output_type": "execute_result"
    }
   ],
   "source": [
    "import pandas as pd\n",
    "\n",
    "df1 = pd.read_csv('Lista-Hopin-051021.csv', delimiter=\";\")\n",
    "df1.columns"
   ]
  },
  {
   "cell_type": "code",
   "execution_count": 4,
   "id": "c987f7d2",
   "metadata": {},
   "outputs": [
    {
     "data": {
      "text/plain": [
       "Index(['Nome', 'Nome para Crachá', 'Email'], dtype='object')"
      ]
     },
     "execution_count": 4,
     "metadata": {},
     "output_type": "execute_result"
    }
   ],
   "source": [
    "df2 = pd.read_csv('Lista-ECOS-051021.csv', delimiter=\";\")\n",
    "df2.columns"
   ]
  },
  {
   "cell_type": "code",
   "execution_count": 5,
   "id": "42beab19",
   "metadata": {},
   "outputs": [],
   "source": [
    "m = pd.merge(df1, df2, how = 'outer', on = 'Email', suffixes=['', '_'], indicator=True)"
   ]
  },
  {
   "cell_type": "code",
   "execution_count": 6,
   "id": "4e67469f",
   "metadata": {},
   "outputs": [
    {
     "data": {
      "text/plain": [
       "Index(['Email', 'First Name', 'Last Name', 'Ticket Group', 'Ticket Type',\n",
       "       'Price Paid', 'Promo Code', 'Registration Date', 'Registration Time',\n",
       "       'Registration Status', 'Attendance Status', 'Role', 'Nome',\n",
       "       'Nome para Crachá', '_merge'],\n",
       "      dtype='object')"
      ]
     },
     "execution_count": 6,
     "metadata": {},
     "output_type": "execute_result"
    }
   ],
   "source": [
    "m.columns\n",
    "\n"
   ]
  },
  {
   "cell_type": "code",
   "execution_count": 8,
   "id": "0a0a198a",
   "metadata": {},
   "outputs": [],
   "source": [
    "m['_merge'] = m['_merge'].map({'left_only':'hopin',\n",
    "                             'right_only':'Ecos',\n",
    "                             'both':'ambos'},\n",
    "                             na_action=None)"
   ]
  },
  {
   "cell_type": "code",
   "execution_count": 9,
   "id": "cd2f76d5",
   "metadata": {},
   "outputs": [],
   "source": [
    "n = m.drop(columns=['Ticket Group', 'Ticket Type',\n",
    "       'Price Paid', 'Promo Code', 'Registration Date', 'Registration Time',\n",
    "       'Registration Status', 'Attendance Status', 'Role', 'Nome',\n",
    "       'Nome para Crachá', ])\n",
    "\n"
   ]
  },
  {
   "cell_type": "code",
   "execution_count": null,
   "id": "a822ff34",
   "metadata": {},
   "outputs": [],
   "source": [
    "print (n)"
   ]
  },
  {
   "cell_type": "code",
   "execution_count": null,
   "id": "ee4e848f",
   "metadata": {},
   "outputs": [],
   "source": [
    "n.to_csv('comparacao.csv', index=False, header=False)"
   ]
  },
  {
   "cell_type": "code",
   "execution_count": 11,
   "id": "b96721af",
   "metadata": {},
   "outputs": [],
   "source": [
    "n.sort_values(by=['_merge'], inplace=True)"
   ]
  },
  {
   "cell_type": "code",
   "execution_count": 12,
   "id": "35e7e310",
   "metadata": {},
   "outputs": [],
   "source": [
    "n.to_csv('comparacao.csv', index=False, header=False)"
   ]
  }
 ],
 "metadata": {
  "kernelspec": {
   "display_name": "Python 3",
   "language": "python",
   "name": "python3"
  },
  "language_info": {
   "codemirror_mode": {
    "name": "ipython",
    "version": 3
   },
   "file_extension": ".py",
   "mimetype": "text/x-python",
   "name": "python",
   "nbconvert_exporter": "python",
   "pygments_lexer": "ipython3",
   "version": "3.8.8"
  }
 },
 "nbformat": 4,
 "nbformat_minor": 5
}
