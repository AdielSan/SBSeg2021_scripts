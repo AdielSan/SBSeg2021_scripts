{
 "cells": [
  {
   "cell_type": "code",
   "execution_count": 3,
   "id": "6eb8b801",
   "metadata": {},
   "outputs": [
    {
     "data": {
      "text/plain": [
       "Index(['Email', 'First Name', 'Last Name', 'Ticket Group', 'Ticket Type',\n",
       "       'Price Paid', 'Promo Code', 'Registration Date', 'Registration Time',\n",
       "       'Registration Status', 'Attendance Status', 'Role'],\n",
       "      dtype='object')"
      ]
     },
     "execution_count": 3,
     "metadata": {},
     "output_type": "execute_result"
    }
   ],
   "source": [
    "import pandas as pd\n",
    "\n",
    "df1 = pd.read_csv('Lista-Hopin-051021.csv', delimiter=\";\")\n",
    "df1.columns"
   ]
  },
  {
   "cell_type": "code",
   "execution_count": 4,
   "id": "c987f7d2",
   "metadata": {},
   "outputs": [
    {
     "data": {
      "text/plain": [
       "Index(['Nome', 'Nome para Crachá', 'Email'], dtype='object')"
      ]
     },
     "execution_count": 4,
     "metadata": {},
     "output_type": "execute_result"
    }
   ],
   "source": [
    "df2 = pd.read_csv('Lista-ECOS-051021.csv', delimiter=\";\")\n",
    "df2.columns"
   ]
  },
  {
   "cell_type": "code",
   "execution_count": 5,
   "id": "42beab19",
   "metadata": {},
   "outputs": [],
   "source": [
    "m = pd.merge(df1, df2, how = 'outer', on = 'Email', suffixes=['', '_'], indicator=True)"
   ]
  },
  {
   "cell_type": "code",
   "execution_count": 6,
   "id": "4e67469f",
   "metadata": {},
   "outputs": [
    {
     "data": {
      "text/plain": [
       "Index(['Email', 'First Name', 'Last Name', 'Ticket Group', 'Ticket Type',\n",
       "       'Price Paid', 'Promo Code', 'Registration Date', 'Registration Time',\n",
       "       'Registration Status', 'Attendance Status', 'Role', 'Nome',\n",
       "       'Nome para Crachá', '_merge'],\n",
       "      dtype='object')"
      ]
     },
     "execution_count": 6,
     "metadata": {},
     "output_type": "execute_result"
    }
   ],
   "source": [
    "m.columns\n",
    "\n"
   ]
  },
  {
   "cell_type": "code",
   "execution_count": 7,
   "id": "0c9bb36f",
   "metadata": {},
   "outputs": [
    {
     "data": {
      "text/html": [
       "<div>\n",
       "<style scoped>\n",
       "    .dataframe tbody tr th:only-of-type {\n",
       "        vertical-align: middle;\n",
       "    }\n",
       "\n",
       "    .dataframe tbody tr th {\n",
       "        vertical-align: top;\n",
       "    }\n",
       "\n",
       "    .dataframe thead th {\n",
       "        text-align: right;\n",
       "    }\n",
       "</style>\n",
       "<table border=\"1\" class=\"dataframe\">\n",
       "  <thead>\n",
       "    <tr style=\"text-align: right;\">\n",
       "      <th></th>\n",
       "      <th>Email</th>\n",
       "      <th>First Name</th>\n",
       "      <th>Last Name</th>\n",
       "      <th>_merge</th>\n",
       "    </tr>\n",
       "  </thead>\n",
       "  <tbody>\n",
       "    <tr>\n",
       "      <th>0</th>\n",
       "      <td>alisson@univali.br</td>\n",
       "      <td>alisson</td>\n",
       "      <td>steffens</td>\n",
       "      <td>left_only</td>\n",
       "    </tr>\n",
       "    <tr>\n",
       "      <th>1</th>\n",
       "      <td>emerson_ml@yahoo.com.br</td>\n",
       "      <td>Emerson</td>\n",
       "      <td>ML</td>\n",
       "      <td>left_only</td>\n",
       "    </tr>\n",
       "    <tr>\n",
       "      <th>2</th>\n",
       "      <td>hector.kobayashi@usp.br</td>\n",
       "      <td>Hector</td>\n",
       "      <td>Kobayashi Yassuda</td>\n",
       "      <td>left_only</td>\n",
       "    </tr>\n",
       "    <tr>\n",
       "      <th>3</th>\n",
       "      <td>gabiruryo@gmail.com</td>\n",
       "      <td>Gabriel Ryo</td>\n",
       "      <td>Hioki</td>\n",
       "      <td>left_only</td>\n",
       "    </tr>\n",
       "    <tr>\n",
       "      <th>4</th>\n",
       "      <td>laneyear8519@gmail.com</td>\n",
       "      <td>Wisllane</td>\n",
       "      <td>Sousa</td>\n",
       "      <td>both</td>\n",
       "    </tr>\n",
       "    <tr>\n",
       "      <th>...</th>\n",
       "      <td>...</td>\n",
       "      <td>...</td>\n",
       "      <td>...</td>\n",
       "      <td>...</td>\n",
       "    </tr>\n",
       "    <tr>\n",
       "      <th>307</th>\n",
       "      <td>rafaella.nunes@usp.br</td>\n",
       "      <td>NaN</td>\n",
       "      <td>NaN</td>\n",
       "      <td>right_only</td>\n",
       "    </tr>\n",
       "    <tr>\n",
       "      <th>308</th>\n",
       "      <td>roberto@eller.eti.br</td>\n",
       "      <td>NaN</td>\n",
       "      <td>NaN</td>\n",
       "      <td>right_only</td>\n",
       "    </tr>\n",
       "    <tr>\n",
       "      <th>309</th>\n",
       "      <td>suellenf249@gmail.com</td>\n",
       "      <td>NaN</td>\n",
       "      <td>NaN</td>\n",
       "      <td>right_only</td>\n",
       "    </tr>\n",
       "    <tr>\n",
       "      <th>310</th>\n",
       "      <td>Taticris05@gmail.com</td>\n",
       "      <td>NaN</td>\n",
       "      <td>NaN</td>\n",
       "      <td>right_only</td>\n",
       "    </tr>\n",
       "    <tr>\n",
       "      <th>311</th>\n",
       "      <td>wendymendys@gmail.com</td>\n",
       "      <td>NaN</td>\n",
       "      <td>NaN</td>\n",
       "      <td>right_only</td>\n",
       "    </tr>\n",
       "  </tbody>\n",
       "</table>\n",
       "<p>312 rows × 4 columns</p>\n",
       "</div>"
      ],
      "text/plain": [
       "                       Email   First Name          Last Name      _merge\n",
       "0         alisson@univali.br      alisson           steffens   left_only\n",
       "1    emerson_ml@yahoo.com.br      Emerson                 ML   left_only\n",
       "2    hector.kobayashi@usp.br       Hector  Kobayashi Yassuda   left_only\n",
       "3        gabiruryo@gmail.com  Gabriel Ryo              Hioki   left_only\n",
       "4     laneyear8519@gmail.com     Wisllane              Sousa        both\n",
       "..                       ...          ...                ...         ...\n",
       "307    rafaella.nunes@usp.br          NaN                NaN  right_only\n",
       "308     roberto@eller.eti.br          NaN                NaN  right_only\n",
       "309    suellenf249@gmail.com          NaN                NaN  right_only\n",
       "310     Taticris05@gmail.com          NaN                NaN  right_only\n",
       "311    wendymendys@gmail.com          NaN                NaN  right_only\n",
       "\n",
       "[312 rows x 4 columns]"
      ]
     },
     "execution_count": 7,
     "metadata": {},
     "output_type": "execute_result"
    }
   ],
   "source": [
    "m.drop(columns=['Ticket Group', 'Ticket Type',\n",
    "       'Price Paid', 'Promo Code', 'Registration Date', 'Registration Time',\n",
    "       'Registration Status', 'Attendance Status', 'Role', 'Nome',\n",
    "       'Nome para Crachá', ])\n",
    "\n"
   ]
  },
  {
   "cell_type": "code",
   "execution_count": 8,
   "id": "0a0a198a",
   "metadata": {},
   "outputs": [],
   "source": [
    "m['_merge'] = m['_merge'].map({'left_only':'hopin',\n",
    "                             'right_only':'Ecos',\n",
    "                             'both':'ambos'},\n",
    "                             na_action=None)"
   ]
  },
  {
   "cell_type": "code",
   "execution_count": 9,
   "id": "cd2f76d5",
   "metadata": {},
   "outputs": [],
   "source": [
    "n = m.drop(columns=['Ticket Group', 'Ticket Type',\n",
    "       'Price Paid', 'Promo Code', 'Registration Date', 'Registration Time',\n",
    "       'Registration Status', 'Attendance Status', 'Role', 'Nome',\n",
    "       'Nome para Crachá', ])\n",
    "\n"
   ]
  },
  {
   "cell_type": "code",
   "execution_count": 10,
   "id": "a822ff34",
   "metadata": {},
   "outputs": [
    {
     "data": {
      "text/html": [
       "<div>\n",
       "<style scoped>\n",
       "    .dataframe tbody tr th:only-of-type {\n",
       "        vertical-align: middle;\n",
       "    }\n",
       "\n",
       "    .dataframe tbody tr th {\n",
       "        vertical-align: top;\n",
       "    }\n",
       "\n",
       "    .dataframe thead th {\n",
       "        text-align: right;\n",
       "    }\n",
       "</style>\n",
       "<table border=\"1\" class=\"dataframe\">\n",
       "  <thead>\n",
       "    <tr style=\"text-align: right;\">\n",
       "      <th></th>\n",
       "      <th>Email</th>\n",
       "      <th>First Name</th>\n",
       "      <th>Last Name</th>\n",
       "      <th>_merge</th>\n",
       "    </tr>\n",
       "  </thead>\n",
       "  <tbody>\n",
       "    <tr>\n",
       "      <th>0</th>\n",
       "      <td>alisson@univali.br</td>\n",
       "      <td>alisson</td>\n",
       "      <td>steffens</td>\n",
       "      <td>hopin</td>\n",
       "    </tr>\n",
       "    <tr>\n",
       "      <th>1</th>\n",
       "      <td>emerson_ml@yahoo.com.br</td>\n",
       "      <td>Emerson</td>\n",
       "      <td>ML</td>\n",
       "      <td>hopin</td>\n",
       "    </tr>\n",
       "    <tr>\n",
       "      <th>2</th>\n",
       "      <td>hector.kobayashi@usp.br</td>\n",
       "      <td>Hector</td>\n",
       "      <td>Kobayashi Yassuda</td>\n",
       "      <td>hopin</td>\n",
       "    </tr>\n",
       "    <tr>\n",
       "      <th>3</th>\n",
       "      <td>gabiruryo@gmail.com</td>\n",
       "      <td>Gabriel Ryo</td>\n",
       "      <td>Hioki</td>\n",
       "      <td>hopin</td>\n",
       "    </tr>\n",
       "    <tr>\n",
       "      <th>4</th>\n",
       "      <td>laneyear8519@gmail.com</td>\n",
       "      <td>Wisllane</td>\n",
       "      <td>Sousa</td>\n",
       "      <td>ambos</td>\n",
       "    </tr>\n",
       "    <tr>\n",
       "      <th>...</th>\n",
       "      <td>...</td>\n",
       "      <td>...</td>\n",
       "      <td>...</td>\n",
       "      <td>...</td>\n",
       "    </tr>\n",
       "    <tr>\n",
       "      <th>307</th>\n",
       "      <td>rafaella.nunes@usp.br</td>\n",
       "      <td>NaN</td>\n",
       "      <td>NaN</td>\n",
       "      <td>Ecos</td>\n",
       "    </tr>\n",
       "    <tr>\n",
       "      <th>308</th>\n",
       "      <td>roberto@eller.eti.br</td>\n",
       "      <td>NaN</td>\n",
       "      <td>NaN</td>\n",
       "      <td>Ecos</td>\n",
       "    </tr>\n",
       "    <tr>\n",
       "      <th>309</th>\n",
       "      <td>suellenf249@gmail.com</td>\n",
       "      <td>NaN</td>\n",
       "      <td>NaN</td>\n",
       "      <td>Ecos</td>\n",
       "    </tr>\n",
       "    <tr>\n",
       "      <th>310</th>\n",
       "      <td>Taticris05@gmail.com</td>\n",
       "      <td>NaN</td>\n",
       "      <td>NaN</td>\n",
       "      <td>Ecos</td>\n",
       "    </tr>\n",
       "    <tr>\n",
       "      <th>311</th>\n",
       "      <td>wendymendys@gmail.com</td>\n",
       "      <td>NaN</td>\n",
       "      <td>NaN</td>\n",
       "      <td>Ecos</td>\n",
       "    </tr>\n",
       "  </tbody>\n",
       "</table>\n",
       "<p>312 rows × 4 columns</p>\n",
       "</div>"
      ],
      "text/plain": [
       "                       Email   First Name          Last Name _merge\n",
       "0         alisson@univali.br      alisson           steffens  hopin\n",
       "1    emerson_ml@yahoo.com.br      Emerson                 ML  hopin\n",
       "2    hector.kobayashi@usp.br       Hector  Kobayashi Yassuda  hopin\n",
       "3        gabiruryo@gmail.com  Gabriel Ryo              Hioki  hopin\n",
       "4     laneyear8519@gmail.com     Wisllane              Sousa  ambos\n",
       "..                       ...          ...                ...    ...\n",
       "307    rafaella.nunes@usp.br          NaN                NaN   Ecos\n",
       "308     roberto@eller.eti.br          NaN                NaN   Ecos\n",
       "309    suellenf249@gmail.com          NaN                NaN   Ecos\n",
       "310     Taticris05@gmail.com          NaN                NaN   Ecos\n",
       "311    wendymendys@gmail.com          NaN                NaN   Ecos\n",
       "\n",
       "[312 rows x 4 columns]"
      ]
     },
     "execution_count": 10,
     "metadata": {},
     "output_type": "execute_result"
    }
   ],
   "source": [
    "n"
   ]
  },
  {
   "cell_type": "code",
   "execution_count": null,
   "id": "ee4e848f",
   "metadata": {},
   "outputs": [],
   "source": [
    "n.to_csv('comparacao.csv', index=False, header=False)"
   ]
  },
  {
   "cell_type": "code",
   "execution_count": 11,
   "id": "b96721af",
   "metadata": {},
   "outputs": [],
   "source": [
    "n.sort_values(by=['_merge'], inplace=True)"
   ]
  },
  {
   "cell_type": "code",
   "execution_count": 12,
   "id": "35e7e310",
   "metadata": {},
   "outputs": [],
   "source": [
    "n.to_csv('comparacao.csv', index=False, header=False)"
   ]
  }
 ],
 "metadata": {
  "kernelspec": {
   "display_name": "Python 3",
   "language": "python",
   "name": "python3"
  },
  "language_info": {
   "codemirror_mode": {
    "name": "ipython",
    "version": 3
   },
   "file_extension": ".py",
   "mimetype": "text/x-python",
   "name": "python",
   "nbconvert_exporter": "python",
   "pygments_lexer": "ipython3",
   "version": "3.8.8"
  }
 },
 "nbformat": 4,
 "nbformat_minor": 5
}
